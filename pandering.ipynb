{
 "cells": [
  {
   "cell_type": "markdown",
   "id": "a3e0dee4",
   "metadata": {},
   "source": [
    "# Walking the Pandas walk\n"
   ]
  },
  {
   "cell_type": "markdown",
   "id": "4758bcfd",
   "metadata": {},
   "source": [
    "## Preliminaries"
   ]
  },
  {
   "cell_type": "markdown",
   "id": "8f9b0bf9",
   "metadata": {},
   "source": [
    "Before you begin, execute the following cell to load the provided tests. Each\n",
    "time you start your notebook, you will need to execute this cell again to load\n",
    "the tests."
   ]
  },
  {
   "cell_type": "code",
   "execution_count": null,
   "id": "869aab86",
   "metadata": {},
   "outputs": [],
   "source": [
    "# Don't change this cell; just run it.\n",
    "\n",
    "import numpy as np\n",
    "import pandas as pd\n",
    "# Safe settings for Pandas.\n",
    "pd.set_option('mode.chained_assignment', 'raise')\n",
    "\n",
    "%matplotlib inline\n",
    "import matplotlib.pyplot as plt\n",
    "plt.style.use('fivethirtyeight')\n",
    "\n",
    "from client.api.notebook import Notebook\n",
    "ok = Notebook('pandering.ok')"
   ]
  },
  {
   "cell_type": "markdown",
   "id": "fa5f8ce2",
   "metadata": {},
   "source": [
    "**Important**: The `ok` tests don't usually tell you that your answer is\n",
    "correct. More often, they help catch careless mistakes. It's up to you to\n",
    "ensure that your answer is correct. If you're not sure, ask someone (not for\n",
    "the answer, but for some guidance about your approach).\n"
   ]
  },
  {
   "cell_type": "markdown",
   "id": "94d70bac",
   "metadata": {},
   "source": [
    "## Unemployment"
   ]
  },
  {
   "cell_type": "markdown",
   "id": "24a6658c",
   "metadata": {},
   "source": [
    "The Federal Reserve Bank of St. Louis publishes data about jobs in the US.\n",
    "Below we've loaded data on unemployment in the United States.  There are many\n",
    "ways of defining unemployment, and our dataset includes two notions of the\n",
    "unemployment rate:\n",
    "\n",
    "1. Among people who are able to work and are looking for a full-time job, the\n",
    "   percentage who can't find a job.  This is called the Non-Employment Index,\n",
    "   or NEI.\n",
    "2. Among people who are able to work and are looking for a full-time job, the\n",
    "   percentage who can't find any job *or* are only working at a part-time job.\n",
    "   The latter group is called \"Part-Time for Economic Reasons\", so the acronym\n",
    "   for this index is NEI-PTER.  (Economists are great at marketing.)\n",
    "\n",
    "The source of the data is [here](https://fred.stlouisfed.org/categories/33509)."
   ]
  },
  {
   "cell_type": "markdown",
   "id": "a9573ac2",
   "metadata": {},
   "source": [
    "**Question 1.** The data are in a CSV file called `unemployment.csv`.  Load\n",
    "that file into a table called `unemployment`."
   ]
  },
  {
   "cell_type": "code",
   "execution_count": null,
   "id": "0bcce632",
   "metadata": {},
   "outputs": [],
   "source": [
    "unemployment = ...\n",
    "unemployment"
   ]
  },
  {
   "cell_type": "code",
   "execution_count": null,
   "id": "2d326918",
   "metadata": {},
   "outputs": [],
   "source": [
    "_ = ok.grade('q1_1')"
   ]
  },
  {
   "cell_type": "markdown",
   "id": "24fc2eb1",
   "metadata": {},
   "source": [
    "**Question 2.** Sort the data in *decreasing* order by NEI, naming the sorted\n",
    "table `by_nei`.  Create another table called `by_nei_pter` that's sorted in\n",
    "decreasing order by NEI-PTER instead."
   ]
  },
  {
   "cell_type": "code",
   "execution_count": null,
   "id": "8e7c8a73",
   "metadata": {},
   "outputs": [],
   "source": [
    "by_nei = ...\n",
    "by_nei_pter = ..."
   ]
  },
  {
   "cell_type": "code",
   "execution_count": null,
   "id": "c825d430",
   "metadata": {},
   "outputs": [],
   "source": [
    "_ = ok.grade('q1_2')"
   ]
  },
  {
   "cell_type": "markdown",
   "id": "584fbee8",
   "metadata": {},
   "source": [
    "**Question 3.** Make a table containing the data for the 10 quarters when NEI was greatest.  Call that table `greatest_nei`."
   ]
  },
  {
   "cell_type": "code",
   "execution_count": null,
   "id": "b918e6f4",
   "metadata": {},
   "outputs": [],
   "source": [
    "greatest_nei = ...\n",
    "greatest_nei"
   ]
  },
  {
   "cell_type": "code",
   "execution_count": null,
   "id": "92494863",
   "metadata": {},
   "outputs": [],
   "source": [
    "_ = ok.grade('q1_3')"
   ]
  },
  {
   "cell_type": "markdown",
   "id": "d35c8de0",
   "metadata": {},
   "source": [
    "**Question 4.** It's believed that many people became PTER (recall: \"Part-Time\n",
    "for Economic Reasons\") in the \"Great Recession\" of 2008-2009.  NEI-PTER is the\n",
    "percentage of people who are unemployed (and counted in the NEI) plus the\n",
    "percentage of people who are PTER.  Compute a Series containing the percentage\n",
    "of people who were PTER in each quarter.  (The first element of the Series\n",
    "should correspond to the first row of `unemployment`, and so on.)\n",
    "\n",
    "*Note:* Use the original `unemployment` table for this."
   ]
  },
  {
   "cell_type": "code",
   "execution_count": null,
   "id": "d9296956",
   "metadata": {},
   "outputs": [],
   "source": [
    "pter = ...\n",
    "# Show the first five values.\n",
    "pter.head()"
   ]
  },
  {
   "cell_type": "code",
   "execution_count": null,
   "id": "be5e6cf5",
   "metadata": {},
   "outputs": [],
   "source": [
    "_ = ok.grade('q1_4')"
   ]
  },
  {
   "cell_type": "markdown",
   "id": "0c8968d7",
   "metadata": {},
   "source": [
    "**Question 5.** Add `pter` as a column named \"PTER\" to `unemployment` and sort\n",
    "the resulting table by that column in decreasing order.  Call the table\n",
    "`by_pter`."
   ]
  },
  {
   "cell_type": "code",
   "execution_count": null,
   "id": "274c48f5",
   "metadata": {},
   "outputs": [],
   "source": [
    "...\n",
    "by_pter = ...\n",
    "# Show the first five values.\n",
    "by_pter.head()"
   ]
  },
  {
   "cell_type": "code",
   "execution_count": null,
   "id": "d9569638",
   "metadata": {},
   "outputs": [],
   "source": [
    "_ = ok.grade('q1_5')"
   ]
  },
  {
   "cell_type": "markdown",
   "id": "70487316",
   "metadata": {},
   "source": [
    "**Question 6.** Does it seem true that the PTER rate was very high during the\n",
    "Great Recession, compared to other periods in the dataset?  Explore the values\n",
    "in the table, and consider doing some plots.  Justify your answer by referring\n",
    "to specific values in the table or by generating a chart.\n"
   ]
  },
  {
   "cell_type": "markdown",
   "id": "5bdac10c",
   "metadata": {
    "lines_to_next_cell": 2,
    "manual_grade": true,
    "manual_problem_id": "basic_sorting_6"
   },
   "source": [
    "*Write your answer here, replacing this text.*"
   ]
  },
  {
   "cell_type": "markdown",
   "id": "ff079800",
   "metadata": {},
   "source": [
    "## 2. Birth Rates"
   ]
  },
  {
   "cell_type": "markdown",
   "id": "a52d595e",
   "metadata": {},
   "source": [
    "The following table gives census-based population estimates for each state in\n",
    "the USA, on July 1, 2015 and July 1, 2016. The last four columns describe the\n",
    "components of the estimated change in population during this time interval.\n",
    "*For all questions below, assume that the word \"states\" refers to all 52 rows\n",
    "including Puerto Rico & the District of Columbia.*"
   ]
  },
  {
   "cell_type": "code",
   "execution_count": null,
   "id": "64a86b71",
   "metadata": {},
   "outputs": [],
   "source": [
    "# Don't change this cell; just run it.\n",
    "# From http://www2.census.gov/programs-surveys/popest/datasets/2010-2016/national/totals/nst-est2016-alldata.csv\n",
    "# See https://www2.census.gov/programs-surveys/popest/datasets/2010-2016/national/totals/nst-est2016-alldata.pdf\n",
    "#     for column descriptions.\n",
    "# Read the table\n",
    "raw_pop = pd.read_csv('nst-est2016-alldata.csv')\n",
    "# Select rows giving summaries at US state level (summary level).\n",
    "pop = raw_pop[raw_pop['SUMLEV'] == 40]\n",
    "# Select only the columns we're interested in\n",
    "good_cols = ['REGION', 'NAME', 'POPESTIMATE2015', 'POPESTIMATE2016',\n",
    "             'BIRTHS2016', 'DEATHS2016', 'NETMIG2016', 'RESIDUAL2016']\n",
    "pop = pop.loc[:, good_cols]\n",
    "# Give the columns new names\n",
    "good_names = ['REGION', 'NAME', '2015', '2016',\n",
    "             'BIRTHS', 'DEATHS', 'MIGRATION', 'OTHER']\n",
    "pop.columns = good_names\n",
    "# Show the first five rows.\n",
    "pop.head()"
   ]
  },
  {
   "cell_type": "markdown",
   "id": "d9784619",
   "metadata": {},
   "source": [
    "**Question 1.** Assign `us_birth_rate` to the total US annual birth rate during\n",
    "this time interval. The annual birth rate for a year-long period is the number\n",
    "of births in that period as a proportion of the population at the start of the\n",
    "period."
   ]
  },
  {
   "cell_type": "code",
   "execution_count": null,
   "id": "ff08b770",
   "metadata": {},
   "outputs": [],
   "source": [
    "us_birth_rate = ...\n",
    "us_birth_rate"
   ]
  },
  {
   "cell_type": "code",
   "execution_count": null,
   "id": "4daaa741",
   "metadata": {},
   "outputs": [],
   "source": [
    "_ = ok.grade('q2_1')"
   ]
  },
  {
   "cell_type": "markdown",
   "id": "fd21e023",
   "metadata": {},
   "source": [
    "**Question 2.** Assign `fastest_growth` to a Series of the names of the five\n",
    "US states with the fastest overall population growth rates in *descending order\n",
    "of growth rate*.\n",
    "\n",
    "*Hint 1* - you may well find yourself adding another column to the `pop` data\n",
    "frame.\n",
    "\n",
    "*Hint 2* - remember this is a growth *rate*.  See above."
   ]
  },
  {
   "cell_type": "code",
   "execution_count": null,
   "id": "7eac2d0d",
   "metadata": {},
   "outputs": [],
   "source": [
    "fastest_growth = ...\n",
    "fastest_growth"
   ]
  },
  {
   "cell_type": "code",
   "execution_count": null,
   "id": "9e1d6f11",
   "metadata": {},
   "outputs": [],
   "source": [
    "_ = ok.grade('q2_2')"
   ]
  },
  {
   "cell_type": "markdown",
   "id": "0df07223",
   "metadata": {},
   "source": [
    "**Question 3.** Assign `n_movers` to the *number* of states for which the\n",
    "absolute annual *rate* of migration was higher than 1%. The annual rate of\n",
    "migration for a year-long period is the net number of migrations (in and out)\n",
    "as a proportion of the population at the start of the period. The `MIGRATION`\n",
    "column contains estimated annual net migration counts by state."
   ]
  },
  {
   "cell_type": "code",
   "execution_count": null,
   "id": "aaf5c71f",
   "metadata": {},
   "outputs": [],
   "source": [
    "n_movers = ...\n",
    "n_movers"
   ]
  },
  {
   "cell_type": "code",
   "execution_count": null,
   "id": "69738ada",
   "metadata": {},
   "outputs": [],
   "source": [
    "_ = ok.grade('q2_3')"
   ]
  },
  {
   "cell_type": "markdown",
   "id": "ca6aadf7",
   "metadata": {},
   "source": [
    "**Question 4.** Assign `n_west_births` to the total *number* of births that\n",
    "occurred in region 4 (the Western US).\n",
    "\n",
    "*Hint* - be careful - what type of values does the `REGION` column contain?\n",
    "Look at the `REGION` value for Puerto Rico."
   ]
  },
  {
   "cell_type": "code",
   "execution_count": null,
   "id": "32bbaaa0",
   "metadata": {},
   "outputs": [],
   "source": [
    "west_births = ...\n",
    "n_west_births"
   ]
  },
  {
   "cell_type": "code",
   "execution_count": null,
   "id": "79064839",
   "metadata": {},
   "outputs": [],
   "source": [
    "_ = ok.grade('q2_4')"
   ]
  },
  {
   "cell_type": "markdown",
   "id": "e1b3f66c",
   "metadata": {},
   "source": [
    "**Question 5.** Assign `n_less_than_west_births` to the number of states that\n",
    "had a total population in 2016 that was smaller than the *number of babies born\n",
    "in region 4 (the Western US)* during this time interval."
   ]
  },
  {
   "cell_type": "code",
   "execution_count": null,
   "id": "3ea9519d",
   "metadata": {},
   "outputs": [],
   "source": [
    "n_less_than_west_births = ...\n",
    "n_less_than_west_births"
   ]
  },
  {
   "cell_type": "code",
   "execution_count": null,
   "id": "de10c752",
   "metadata": {},
   "outputs": [],
   "source": [
    "_ = ok.grade('q2_5')"
   ]
  },
  {
   "cell_type": "markdown",
   "id": "2f626ba1",
   "metadata": {},
   "source": [
    "**Question 6.** Was there an association between birth rate and death rate\n",
    "during this time interval? Use the code cell below to support your conclusion\n",
    "with a chart. If an association exists, what might explain it?\n"
   ]
  },
  {
   "cell_type": "markdown",
   "id": "5be14599",
   "metadata": {
    "manual_grade": true,
    "manual_problem_id": "births_6"
   },
   "source": [
    "*Write your answer here, replacing this text.*"
   ]
  },
  {
   "cell_type": "code",
   "execution_count": null,
   "id": "deb63c63",
   "metadata": {},
   "outputs": [],
   "source": [
    "#- Generate a chart here to support your conclusion\n",
    "..."
   ]
  },
  {
   "cell_type": "markdown",
   "id": "38e324ed",
   "metadata": {},
   "source": [
    "## 3. Consumer Financial Protection Bureau Complaints"
   ]
  },
  {
   "cell_type": "markdown",
   "id": "412711dd",
   "metadata": {},
   "source": [
    "The Consumer Financial Protection Bureau has collected and published consumer\n",
    "complaints against financial companies since 2011.  The data are available\n",
    "[here](https://dev.socrata.com/foundry/data.consumerfinance.gov/jhzv-w97w) (or\n",
    "at this [direct\n",
    "link](https://data.consumerfinance.gov/resource/jhzv-w97w.csv)).  For this\n",
    "exercise, to make your code run faster, we've selected only the data from\n",
    "May 2016.\n",
    "\n",
    "Run the next cell to load the data.  Each row represents one consumer's complaint."
   ]
  },
  {
   "cell_type": "code",
   "execution_count": null,
   "id": "32640fac",
   "metadata": {},
   "outputs": [],
   "source": [
    "# Just run this cell.\n",
    "complaints = pd.read_csv(\"complaints.csv\")\n",
    "complaints.head()"
   ]
  },
  {
   "cell_type": "markdown",
   "id": "b7c5ec64",
   "metadata": {},
   "source": [
    "**Question 1.** Financial companies offer a variety of products.  How many\n",
    "complaints were made against each kind of product?  Make a Series called\n",
    "`complaints_per_product` with one element per product category, where the index\n",
    "label is the name of the product (from the \"product\" column), and the\n",
    "corresponding value is the \"number of complaints\" (the number of complaints\n",
    "made against that kind of product).\n",
    "\n",
    "*Hint* - the way to do this is more familiar than it might at first appear."
   ]
  },
  {
   "cell_type": "code",
   "execution_count": null,
   "id": "ae93dd5e",
   "metadata": {},
   "outputs": [],
   "source": [
    "complaints_per_product = ...\n",
    "complaints_per_product"
   ]
  },
  {
   "cell_type": "code",
   "execution_count": null,
   "id": "6bef9347",
   "metadata": {},
   "outputs": [],
   "source": [
    "_ = ok.grade('q3_1')"
   ]
  },
  {
   "cell_type": "markdown",
   "id": "541f10b9",
   "metadata": {},
   "source": [
    "**Question 2.** Make a horizontal bar chart showing how many complaints were\n",
    "made about each product category. Sort the bars from longest to shortest.\n",
    "Because this is a horizontal bar chart, the product axis should be on the left\n",
    "(y-axis), and the counts axis should be at the bottom (x-axis)."
   ]
  },
  {
   "cell_type": "code",
   "execution_count": null,
   "id": "9b7596f0",
   "metadata": {},
   "outputs": [],
   "source": [
    "..."
   ]
  },
  {
   "cell_type": "markdown",
   "id": "615bc59f",
   "metadata": {},
   "source": [
    "**Question 3.** Make a Series of the number of complaints made against each\n",
    "*company*.  Call it `complaints_per_company`.  It should have one row per\n",
    "company. The index labels will have the \"company\" name (the name of the\n",
    "company) and corresponding values with be the number of complaints (the number\n",
    "of complaints made against that company)."
   ]
  },
  {
   "cell_type": "code",
   "execution_count": null,
   "id": "70bbb63f",
   "metadata": {},
   "outputs": [],
   "source": [
    "complaints_per_company = ...\n",
    "complaints_per_company"
   ]
  },
  {
   "cell_type": "code",
   "execution_count": null,
   "id": "d54986bb",
   "metadata": {},
   "outputs": [],
   "source": [
    "_ = ok.grade('q3_3')"
   ]
  },
  {
   "cell_type": "markdown",
   "id": "ca7aa970",
   "metadata": {},
   "source": [
    "**Question 4.** It wouldn't be a good idea to make a bar chart of that data.  (Don't try it!)  Why not?\n"
   ]
  },
  {
   "cell_type": "markdown",
   "id": "beb1bdfd",
   "metadata": {
    "lines_to_next_cell": 2,
    "manual_grade": true,
    "manual_problem_id": "cfpb_complaints_4"
   },
   "source": [
    "*Write your answer here, replacing this text.*"
   ]
  },
  {
   "cell_type": "markdown",
   "id": "b934b35d",
   "metadata": {},
   "source": [
    "**Question 5.** Make a horizontal bar chart of just the 10 companies with the\n",
    "most complaints.  Sort the bars from longest (at the top) to shortest (at the\n",
    "bottom)."
   ]
  },
  {
   "cell_type": "code",
   "execution_count": null,
   "id": "98b03bac",
   "metadata": {},
   "outputs": [],
   "source": [
    "..."
   ]
  },
  {
   "cell_type": "markdown",
   "id": "44ea24ef",
   "metadata": {},
   "source": [
    "**Question 6.** Make a horizontal bar chart like the one above, with one\n",
    "difference: The size of each company's bar should be the *proportion* (among\n",
    "*all complaints* made against any company in `complaints`) that were made\n",
    "against that company.  Remember the bars should be in order from longest to\n",
    "shortest.\n",
    "\n",
    "**Note:** As before, make sure you are not plotting all the companies.  If you do, by accident, consider the Kernel menu Interrupt option.\n",
    "\n",
    "**Note:** Graphs aren't very useful without accurate labels.  Make sure that the text on the horizontal axis of the graph makes sense.  Investigate how you would put a meaningful label on this axis."
   ]
  },
  {
   "cell_type": "code",
   "execution_count": null,
   "id": "f9730e05",
   "metadata": {},
   "outputs": [],
   "source": [
    "..."
   ]
  },
  {
   "cell_type": "markdown",
   "id": "2ba22e5c",
   "metadata": {},
   "source": [
    "## Done\n",
    "\n",
    "You're finished with the assignment!  Be sure to...\n",
    "\n",
    "- **run all the tests** (the next cell has a shortcut for that),\n",
    "- **Save and Checkpoint** from the \"File\" menu.\n",
    "- Finally, **restart** the kernel for this notebook, and **run all the cells**,\n",
    "  to check that the notebook still works without errors.  Use the\n",
    "  \"Kernel\" menu, and choose \"Restart and run all\".  If you find any\n",
    "  problems, go back and fix them, save the notebook, and restart / run\n",
    "  all again, before submitting.  When you do this, you make sure that\n",
    "  we, your humble markers, will be able to mark your notebook."
   ]
  },
  {
   "cell_type": "code",
   "execution_count": null,
   "id": "a0ea4e29",
   "metadata": {},
   "outputs": [],
   "source": [
    "# For your convenience, you can run this cell to run all the tests at once!\n",
    "import os\n",
    "_ = [ok.grade(q[:-3]) for q in os.listdir(\"tests\") if q.startswith('q')]"
   ]
  }
 ],
 "metadata": {
  "jupytext": {
   "cell_metadata_json": true,
   "split_at_heading": true,
   "text_representation": {
    "extension": ".Rmd",
    "format_name": "rmarkdown",
    "format_version": "1.1",
    "jupytext_version": "1.2.4"
   }
  },
  "kernelspec": {
   "display_name": "Python 3",
   "language": "python",
   "name": "python3"
  }
 },
 "nbformat": 4,
 "nbformat_minor": 5
}
